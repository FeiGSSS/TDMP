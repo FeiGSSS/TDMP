{
 "cells": [
  {
   "cell_type": "markdown",
   "metadata": {},
   "source": [
    "# 尝试扩展 rDMP 算法到高阶网络，并尝试给出相变点的解析解"
   ]
  },
  {
   "cell_type": "markdown",
   "metadata": {},
   "source": [
    "## 原版 rDMP 算法\n",
    "For undirected graph $G=(V,E)$, rDMP holds $2|V||E|$ variables. Let $\\gamma$ be the homogeneous recover rate and $\\tau$ be the homogeneous transition rate, then we have:\n",
    "$$\n",
    "\\frac{dI_i}{dt} = -\\gamma I_i + \\tau （1-I_i）\\sum_{j\\in \\partial i} I_{j\\rightarrow i}\n",
    "$$\n",
    "$$\\frac{dI_{j\\rightarrow i}}{dt} = -\\gamma I_{j\\rightarrow i} + \\tau (1-I_j)\\sum_{k\\in \\partial j \\backslash i} I_{k\\rightarrow j} $$\n",
    "$$S_i = 1- I_i$$\n"
   ]
  },
  {
   "cell_type": "markdown",
   "metadata": {},
   "source": [
    "## 扩展 V1（失败的版本）\n",
    "$$\n",
    "\\frac{dI_i}{dt} = -\\gamma I_i + \\tau (1-I_i)\\sum_{j\\in \\partial i} I_{j\\rightarrow i} + \\tau_{\\Delta}(1-I_i)\\sum_{j,k \\in \\Delta_i} I_{\\{j,k\\}\\rightarrow i}\n",
    "$$\n",
    "where $I_{j\\rightarrow i}$ is the probability that node $j$ is infected when ignoring the influence from node $i$, and $I_{\\{j,k\\}\\rightarrow i}$ is the probability that nodes $j$ and $k$ are both infected when ignoring influence from node $i$."
   ]
  },
  {
   "cell_type": "markdown",
   "metadata": {},
   "source": [
    "$$\n",
    "\\frac{dI_{i\\rightarrow j}}{dt} = -\\gamma I_{i\\rightarrow j} + \\tau (1-I_i)\\sum_{k\\in\\partial i \\backslash j} I_{k\\rightarrow i} + \\tau_{\\Delta}(1-I_i)\\sum_{k,r\\in\\Delta_{i} \\atop k,r\\neq j}I_{\\{k,r\\}\\rightarrow i}\n",
    "$$"
   ]
  },
  {
   "cell_type": "markdown",
   "metadata": {},
   "source": [
    "\\begin{equation}\n",
    "    \\begin{split}\n",
    "    \\frac{dI_{\\{j,k\\}\\rightarrow i}}{dt} = & -\\gamma(2-\\gamma)I_{\\{j,k\\}\\rightarrow i} \\\\\n",
    "    & + \\tau (1-I_j)\\sum_{r\\in\\partial j \\backslash i} I_{r\\rightarrow j} + \\tau_{\\Delta}(1-I_j)\\sum_{r,s\\in\\Delta_{j} \\atop r,s\\neq i}I_{\\{r,s\\}\\rightarrow j} \\\\\n",
    "    & + \\tau (1-I_k)\\sum_{r\\in\\partial k \\backslash i} I_{r\\rightarrow k} + \\tau_{\\Delta}(1-I_k)\\sum_{r,s\\in\\Delta_{k} \\atop r,s\\neq i}I_{\\{r,s\\}\\rightarrow k}\\\\\n",
    "    \\end{split}\n",
    "\\end{equation}\n",
    "\n",
    "第一项是两个节点至少有一个recover的概率，使得整体减少；我们利用一个近似：节点j，k在不考虑i时，是相互独立的，该近似在树上是准确的。则第二、三项是节点j在不考虑节点i的影响时，被其他邻居感染的概率。第四、五项则是关于节点k的。"
   ]
  },
  {
   "cell_type": "markdown",
   "metadata": {},
   "source": [
    "# 扩展 v1.5"
   ]
  },
  {
   "cell_type": "markdown",
   "metadata": {},
   "source": [
    "$$\n",
    "\\frac{dI_i}{dt} = -\\gamma I_i + \\tau (1-I_i)\\sum_{j\\in \\partial i} I_{j\\rightarrow i} + \\tau_{\\Delta}(1-I_i)\\sum_{j,k \\in \\Delta_i} I_{\\{j,k\\}\\rightarrow i}\n",
    "$$"
   ]
  },
  {
   "cell_type": "markdown",
   "metadata": {},
   "source": [
    "$$\n",
    "\\frac{dI_{j\\rightarrow i}}{dt} = -\\gamma I_{j\\rightarrow i} + \\tau (1-I_j)\\sum_{k\\in\\partial j \\backslash i} I_{k\\rightarrow j} + \\tau_{\\Delta}(1-I_j)\\sum_{\\substack{k,r\\in\\Delta_{j} \\\\ k,r\\neq i}}I_{\\{k,r\\}\\rightarrow j}\n",
    "$$"
   ]
  },
  {
   "cell_type": "markdown",
   "metadata": {},
   "source": [
    "\\begin{equation}\n",
    "    \\begin{split}\n",
    "    \\frac{dI_{\\{j,k\\}\\rightarrow i}}{dt} = & -\\gamma(2-\\gamma)I_{\\{j,k\\}\\rightarrow i} \\\\\n",
    "    & +  \\left( \\tau (1-I_j)\\sum_{r\\in\\partial j \\backslash i} I_{r\\rightarrow j} + \\tau_{\\Delta}(1-I_j)\\sum_{\\substack{r,s\\in\\Delta_{j} \\\\ r,s\\neq i}}I_{\\{r,s\\}\\rightarrow j} \\right) \\\\\n",
    "    & * \\left( \\tau (1-I_k)\\sum_{r\\in\\partial k \\backslash i} I_{r\\rightarrow k} + \\tau_{\\Delta}(1-I_k)\\sum_{\\substack{r,s\\in\\Delta_{k} \\\\ r,s\\neq i}}I_{\\{r,s\\}\\rightarrow k} \\right)\\\\\n",
    "    \\end{split}\n",
    "\\end{equation}"
   ]
  },
  {
   "cell_type": "markdown",
   "metadata": {},
   "source": [
    "## V1.5和V3的比较"
   ]
  },
  {
   "cell_type": "markdown",
   "metadata": {},
   "source": [
    "用 $I_{k\\rightarrow i}I_{j\\rightarrow i}$ 近似 $I_{\\{j,k\\}\\rightarrow i}$ 时，\n",
    "\n",
    "$$\\frac{dI_{\\{j,k\\}\\rightarrow i}}{dt}=\\frac{dI_{k\\rightarrow i}I_{j\\rightarrow i}}{dt}=\\frac{dI_{j\\rightarrow i}}{dt}\\frac{dI_{k\\rightarrow i}}{dt}+I_{k\\rightarrow i}\\frac{dI_{j\\rightarrow i}}{dt} + I_{j\\rightarrow i}\\frac{dI_{k\\rightarrow i}}{dt}$$"
   ]
  },
  {
   "cell_type": "markdown",
   "metadata": {},
   "source": [
    "令 \n",
    "$$S_{j\\rightarrow i} = \\tau (1-I_j)\\sum_{r\\in\\partial j \\backslash i} I_{r\\rightarrow j} + \\tau_{\\Delta}(1-I_j)\\sum_{\\substack{r,s\\in\\Delta_{j} \\\\ r,s\\neq i}}I_{\\{r,s\\}\\rightarrow j}$$, \n",
    "和 \n",
    "$$S_{k\\rightarrow i}= \\tau (1-I_k)\\sum_{r\\in\\partial k \\backslash i} I_{r\\rightarrow k} + \\tau_{\\Delta}(1-I_k)\\sum_{\\substack{r,s\\in\\Delta_{k} \\\\ r,s\\neq i}}I_{\\{r,s\\}\\rightarrow k}$$"
   ]
  },
  {
   "cell_type": "markdown",
   "metadata": {},
   "source": [
    "则,\n",
    "$$\\frac{dI_{\\{j,k\\}\\rightarrow i}}{dt} = (-\\gamma I_{j\\rightarrow i}+S_{j\\rightarrow i})(-\\gamma I_{k\\rightarrow i}+S_{k\\rightarrow i}) + I_{k\\rightarrow i}(-\\gamma I_{j\\rightarrow i}+S_{j\\rightarrow i}) + I_{j\\rightarrow i}(-\\gamma I_{k\\rightarrow i}+S_{k\\rightarrow i})$$\n",
    "\n",
    "化简：\n",
    "\n",
    "$$\\frac{dI_{\\{j,k\\}\\rightarrow i}}{dt} = -\\gamma(2-\\gamma)I_{\\{j,k\\}\\rightarrow i} + S_{j\\rightarrow i}S_{k\\rightarrow i} + (1-\\gamma)\\left(I_{j\\rightarrow i}S_{k\\rightarrow i} + I_{k\\rightarrow i}S_{j\\rightarrow i}\\right)$$"
   ]
  },
  {
   "cell_type": "markdown",
   "metadata": {},
   "source": [
    "对比发现，V3版本的近似对比于V1.5, 多了 $(1-\\gamma)\\left(I_{j\\rightarrow i}S_{k\\rightarrow i} + I_{k\\rightarrow i}S_{j\\rightarrow i}\\right)$ 项，这也解释了为什么v1.5会有高阶消息消失的现象，因为微分方程少了非负项。\n",
    "\n",
    "$(1-\\gamma)\\left(I_{j\\rightarrow i}S_{k\\rightarrow i} + I_{k\\rightarrow i}S_{j\\rightarrow i}\\right) = (1-\\gamma)I_{j\\rightarrow i}S_{k\\rightarrow i} + (1-\\gamma)I_{k\\rightarrow i}S_{j\\rightarrow i}$ 的含义可以解释为：在j/k不康复时，节点 k/j 感染增加的概率（速率）。"
   ]
  },
  {
   "cell_type": "code",
   "execution_count": null,
   "metadata": {},
   "outputs": [],
   "source": []
  },
  {
   "cell_type": "markdown",
   "metadata": {},
   "source": [
    "### 扩展 V2（失败）"
   ]
  },
  {
   "cell_type": "markdown",
   "metadata": {},
   "source": [
    "- 定义1: $\\partial i$ 表示节点 $i$ 的pair-wise邻居集合，也就是和节点 $i$ 有一条连边的点集合\n",
    "- 定义2: $\\Delta i$ 表示节点 $i$ 的所有 2-simplex 邻居集合，若 $j\\in \\Delta i$，则 $j\\in \\partial i$ 且 $\\exists k \\in \\partial i, s.t. \\{i,j,k\\}$ 组成一个 2-simplex。"
   ]
  },
  {
   "cell_type": "markdown",
   "metadata": {},
   "source": [
    "\\begin{equation}\n",
    "\\begin{split}\n",
    "\\frac{dI_i}{dt}=\n",
    "&-\\gamma I_i \\\\\n",
    "&+(1-I_i)\\sum_{j\\in \\partial i \\backslash \\Delta_i} \\tau I_{j\\rightarrow i} \\\\\n",
    "&+(1-I_i)\\sum_{k,r \\in \\Delta_i} \\left( \\tau_{\\Delta} I_{\\{k,r\\}\\rightarrow i} + \\tau I_{k\\rightarrow\\{r,i\\}} + \\tau I_{r\\rightarrow\\{k,i\\}}\\right)\n",
    "\\end{split}\n",
    "\\end{equation}"
   ]
  },
  {
   "cell_type": "markdown",
   "metadata": {},
   "source": [
    "增加了新的“消息”定义：$I_{j\\rightarrow \\{k,i\\}}$，表示在$\\Delta=\\{i,j,k\\}$ 中，节点 $j$ 忽略节点 $k,i$ 的影响时，处于感染态 $I$ 的概率。"
   ]
  },
  {
   "cell_type": "markdown",
   "metadata": {},
   "source": [
    "\\begin{equation}\n",
    "\\begin{split}\n",
    "\\frac{dI_{j\\rightarrow i}}{dt} =\n",
    "& -\\gamma I_{j\\rightarrow i} \\\\\n",
    "& + (1-I_j)\\sum_{k\\in\\partial j \\backslash \\{i\\cup\\Delta_j\\}} \\tau I_{k\\rightarrow j} \\\\\n",
    "& + (1-I_j)\\sum_{k,r\\in\\Delta_j \\atop k,r\\neq i} \\left( \\tau_{\\Delta} I_{\\{k,r\\}\\rightarrow j} + \\tau I_{k\\rightarrow \\{r,j\\}} + \\tau I_{r\\rightarrow \\{k,j\\}} \\right) \\\\\n",
    "\\end{split}\n",
    "\\end{equation}"
   ]
  },
  {
   "cell_type": "markdown",
   "metadata": {},
   "source": [
    "\\begin{equation}\n",
    "\\begin{split}\n",
    "\\frac{dI_{k\\rightarrow \\{i,j\\}}}{dt} = \n",
    "& -\\gamma I_{k\\rightarrow \\{i,j\\}} \\\\\n",
    "& + (1-I_k) \\sum_{r\\in \\partial_k \\backslash \\{i\\cup j \\cup \\Delta_k \\}} \\tau I_{r\\rightarrow k}\\\\\n",
    "& + (1-I_k) \\sum_{r,s \\in \\Delta_{k} \\atop r,s \\neq i,j} \\left( \\tau_{\\Delta}I_{\\{r,s\\}\\rightarrow k} + \\tau I_{r\\rightarrow \\{s,k\\}} + \\tau I_{s\\rightarrow\\{r,k\\}} \\right)\\\\\n",
    "\\end{split}\n",
    "\\end{equation}"
   ]
  },
  {
   "cell_type": "markdown",
   "metadata": {
    "ExecuteTime": {
     "end_time": "2022-04-11T09:42:32.039761Z",
     "start_time": "2022-04-11T09:42:32.030874Z"
    }
   },
   "source": [
    "\\begin{equation}\n",
    "\\begin{split}\n",
    "\\frac{dI_{\\{j,k\\}\\rightarrow i}}{dt} = & -\\gamma(2-\\gamma)I_{\\{j,k\\}\\rightarrow i} \\\\\n",
    "& + (1-I_j)\\sum_{r\\in\\partial j \\backslash \\{i \\cup \\Delta_j \\}} \\tau I_{r\\rightarrow j} + (1-I_j)\\sum_{r,s\\in\\Delta_j \\atop r,s\\neq i} \\left( \\tau_{\\Delta} I_{\\{r,s\\}\\rightarrow j} + \\tau I_{r\\rightarrow \\{s,j\\}} + \\tau I_{s\\rightarrow \\{r,j\\}} \\right) \\\\\n",
    "& + (1-I_k)\\sum_{r\\in\\partial k \\backslash \\{i \\cup \\Delta_k \\}} \\tau I_{r\\rightarrow j} + (1-I_k)\\sum_{r,s\\in\\Delta_k \\atop r,s\\neq i} \\left( \\tau_{\\Delta} I_{\\{r,s\\}\\rightarrow k} + \\tau I_{r\\rightarrow \\{s,k\\}} + \\tau I_{s\\rightarrow \\{r,k\\}} \\right) \\\\\n",
    "\\end{split}\n",
    "\\end{equation}"
   ]
  },
  {
   "cell_type": "markdown",
   "metadata": {},
   "source": [
    "## 扩展V3"
   ]
  },
  {
   "cell_type": "markdown",
   "metadata": {},
   "source": [
    "\\begin{equation}\n",
    "\\begin{split}\n",
    "\\frac{dI_i}{dt} =\n",
    "& -\\gamma I_i \\\\\n",
    "& + \\tau （1-I_i）\\sum_{j\\in \\partial i} I_{j\\rightarrow i}\\\\\n",
    "& + \\tau_{\\Delta}(1-I_i)\\sum_{j,k\\in \\Delta_{i}}I_{j\\rightarrow i}I_{k\\rightarrow i} \\\\\n",
    "\\end{split}\n",
    "\\end{equation}"
   ]
  },
  {
   "cell_type": "markdown",
   "metadata": {},
   "source": [
    "\\begin{equation}\n",
    "\\begin{split}\n",
    "\\frac{dI_{j\\rightarrow i}}{dt} =\n",
    "&-\\gamma I_{j\\rightarrow i}\\\\\n",
    "&+\\tau (1-I_j)\\sum_{k\\in \\partial j \\backslash i} I_{k\\rightarrow j}\\\\\n",
    "&+\\tau_{\\Delta} (1-I_{j}) \\sum_{k,r \\in \\Delta_{j} \\atop k,r\\neq i} I_{k\\rightarrow j}I_{r\\rightarrow j} \\\\\n",
    "\\end{split}\n",
    "\\end{equation}"
   ]
  },
  {
   "cell_type": "markdown",
   "metadata": {},
   "source": [
    "# ELE"
   ]
  },
  {
   "cell_type": "markdown",
   "metadata": {},
   "source": [
    "Write the epidemic link equations, ELE, for the simplicial model, for every node i, as"
   ]
  },
  {
   "cell_type": "markdown",
   "metadata": {},
   "source": [
    "$$P_i^{I}(t+1) = (1-P_i^I(t))(1-q_i(t)q_i^{\\Delta}(t)) + P_i^I(t)(1-\\gamma)$$"
   ]
  },
  {
   "cell_type": "markdown",
   "metadata": {},
   "source": [
    "where $q_i(t)$ deﬁnes the probability that node $i$ is not infected by any pairwise interaction with its neighbors,"
   ]
  },
  {
   "cell_type": "markdown",
   "metadata": {},
   "source": [
    "$$\n",
    "q_{i}(t)=\\prod_{j \\in \\partial_{i}}\\left(1-\\tau \\frac{P_{i j}^{S I}(t)}{P_{i}^{S}(t)}\\right)\n",
    "$$"
   ]
  },
  {
   "cell_type": "markdown",
   "metadata": {},
   "source": [
    "and $q_i^{\\Delta}(t)$ is the probability that node $i$ is not infected by any of the interactions at the 2-simplicial level,"
   ]
  },
  {
   "cell_type": "markdown",
   "metadata": {},
   "source": [
    "$$\n",
    "q_{i}^{\\Delta}=\\prod_{j, r \\in \\Delta_{i}}\\left(1-\\tau^{\\Delta} \\frac{P_{i j r}^{S I I}(t)}{P_{i}^{S}(t)}\\right)\n",
    "$$"
   ]
  },
  {
   "cell_type": "markdown",
   "metadata": {},
   "source": [
    "Note that, to write down the previous equations, we have made use of Bayes’ theorem: $P_{ji}^{I|S} = P_{ij}^{SI}(t)/P_i^{S}(t)$ and $P_{jri}^{II|S}=P_{jri}^{IIS}/P_i^S$."
   ]
  },
  {
   "cell_type": "markdown",
   "metadata": {},
   "source": [
    "The system still requires of L equations, one for every link, that account for the probability of having a link connecting two nodes in the infected state II, transitioning from the four possible states SS, SI, IS, II. It reads:"
   ]
  },
  {
   "cell_type": "markdown",
   "metadata": {},
   "source": [
    "$$\n",
    "\\begin{aligned}\n",
    "P_{i j}^{I I}(t+1)=& P_{i j}^{S S}(t)\\left(1-q_{i j}(t) q_{i j}^{\\Delta}(t)\\right)\\left(1-q_{j i}(t) q_{j i}^{\\Delta}(t)\\right) \\\\\n",
    "&+P_{i j}^{S I}(t)\\left(1-(1-\\tau) q_{i j}(t) u_{i j}^{\\Delta}(t) q_{i j}^{\\Delta}(t)\\right)(1-\\gamma) \\\\\n",
    "&+P_{i j}^{I S}(t)\\left(1-(1-\\tau) q_{j i}(t) u_{j i}^{\\Delta}(t) q_{j i}^{\\Delta}(t)\\right)(1-\\gamma) \\\\\n",
    "&+P_{i j}^{I I}(t)(1-\\gamma)^{2},\n",
    "\\end{aligned}\n",
    "$$\n",
    "\n",
    "**注意：** $u_{i j}^{\\Delta}(t) q_{i j}^{\\Delta}(t)==q_i^{\\Delta}(t)$ 吗?"
   ]
  },
  {
   "cell_type": "markdown",
   "metadata": {},
   "source": [
    "其中 $q_{ij}(t)$ 表示：节点 i 没有被除了节点 j 以外的任何邻居感染的概率。\n",
    "\n",
    "$$\n",
    "q_{i j}(t)=\\prod_{\\substack{r \\in \\partial_{i} \\\\ r \\neq j}}\\left(1-\\tau \\frac{P_{i r}^{S I}(t)}{P_{i}^{S}(t)}\\right)\n",
    "$$"
   ]
  },
  {
   "cell_type": "markdown",
   "metadata": {},
   "source": [
    "其中 $q_{ij}^{\\Delta}(t)$ 表示节点 i 没有被任何没有包含节点 j 的2-simplex 感染。\n",
    "$$\n",
    "q_{i j}^{\\Delta}(t)=\\prod_{\\substack{r, \\ell \\in \\Delta_{i} \\\\ r \\neq j \\\\ \\ell \\neq j}}\\left(1-\\tau^{\\Delta} \\frac{P_{i r \\ell}^{S I I}(t)}{P_{i}^{S}(t)}\\right)\n",
    "$$"
   ]
  },
  {
   "cell_type": "markdown",
   "metadata": {},
   "source": [
    "其中 $u_{ij}^{\\Delta}(t)$ 表示节点 i 没有被任何包含节点 j 的 2-simplex 感染\n",
    "$$\n",
    "u_{i j}^{\\Delta}(t)=\\prod_{r \\in \\Delta_{i j}}\\left(1-\\tau^{\\Delta} \\frac{P_{i j r}^{S I I}(t)}{P_{i j}^{S I}(t)}\\right)\n",
    "$$"
   ]
  },
  {
   "cell_type": "markdown",
   "metadata": {},
   "source": [
    "最后：\n",
    "$$\n",
    "P_{i j r}^{S I I}=\\frac{P_{i j}^{S I} P_{i r}^{S I} P_{j r}^{I I}}{P_{i}^{S} P_{j}^{I} P_{r}^{I}}\n",
    "$$"
   ]
  },
  {
   "cell_type": "markdown",
   "metadata": {},
   "source": [
    "为了完整，还需要有:\n",
    "\n",
    "$$P_{ij}^{IS} = P_{i}^{I}-P_{ij}^{II}$$\n",
    "$$P_{ij}^{SI} = P_{j}^{I}-P_{ij}^{II}$$\n",
    "$$P_{ij}^{SS} = 1 - P_{ij}^{IS} - P_{ij}^{SI} -P_{ij}^{II}$$"
   ]
  },
  {
   "cell_type": "code",
   "execution_count": null,
   "metadata": {},
   "outputs": [],
   "source": []
  }
 ],
 "metadata": {
  "kernelspec": {
   "display_name": "Python 3 (ipykernel)",
   "language": "python",
   "name": "python3"
  },
  "language_info": {
   "codemirror_mode": {
    "name": "ipython",
    "version": 3
   },
   "file_extension": ".py",
   "mimetype": "text/x-python",
   "name": "python",
   "nbconvert_exporter": "python",
   "pygments_lexer": "ipython3",
   "version": "3.8.11"
  },
  "latex_envs": {
   "LaTeX_envs_menu_present": true,
   "autoclose": false,
   "autocomplete": true,
   "bibliofile": "biblio.bib",
   "cite_by": "apalike",
   "current_citInitial": 1,
   "eqLabelWithNumbers": true,
   "eqNumInitial": 1,
   "hotkeys": {
    "equation": "Ctrl-E",
    "itemize": "Ctrl-I"
   },
   "labels_anchors": false,
   "latex_user_defs": false,
   "report_style_numbering": false,
   "user_envs_cfg": false
  },
  "toc": {
   "base_numbering": 1,
   "nav_menu": {},
   "number_sections": true,
   "sideBar": true,
   "skip_h1_title": false,
   "title_cell": "Table of Contents",
   "title_sidebar": "Contents",
   "toc_cell": false,
   "toc_position": {},
   "toc_section_display": true,
   "toc_window_display": false
  }
 },
 "nbformat": 4,
 "nbformat_minor": 2
}
